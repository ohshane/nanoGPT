{
 "cells": [
  {
   "cell_type": "markdown",
   "metadata": {},
   "source": [
    "## nanoGPT\n",
    "\n",
    "- https://github.com/karpathy/nanoGPT/tree/master\n",
    "- https://www.youtube.com/watch?v=kCc8FmEb1nY"
   ]
  },
  {
   "cell_type": "code",
   "execution_count": 1,
   "metadata": {},
   "outputs": [
    {
     "name": "stdout",
     "output_type": "stream",
     "text": [
      "len(text) = 1115394\n"
     ]
    }
   ],
   "source": [
    "import torch\n",
    "import torch.nn as nn\n",
    "import torch.optim as optim\n",
    "import torch.nn.functional as F\n",
    "import matplotlib.pyplot as plt\n",
    "from torch.utils.data import Dataset, DataLoader\n",
    "from pathlib import Path\n",
    "from tqdm import tqdm\n",
    "\n",
    "file_path = Path('data') / 'tinyshakespeare' / 'input.txt'\n",
    "with open(file_path, 'r') as f:\n",
    "    text = f.read()\n",
    "\n",
    "print(f\"{len(text) = }\")"
   ]
  },
  {
   "cell_type": "code",
   "execution_count": 2,
   "metadata": {},
   "outputs": [
    {
     "name": "stdout",
     "output_type": "stream",
     "text": [
      "len(chars) = 65\n",
      "\"\\n !$&',-.3:;?ABCDEFGHIJKLMNOPQRSTUVWXYZabcdefghijklmnopqrstuvwxyz\"\n"
     ]
    }
   ],
   "source": [
    "chars = sorted(set(text))\n",
    "print(f\"{len(chars) = }\")\n",
    "print(repr(''.join(chars)))"
   ]
  },
  {
   "cell_type": "code",
   "execution_count": 3,
   "metadata": {},
   "outputs": [
    {
     "data": {
      "text/plain": [
       "'hello world'"
      ]
     },
     "execution_count": 3,
     "metadata": {},
     "output_type": "execute_result"
    }
   ],
   "source": [
    "stoi = {c: i for i, c in enumerate(chars)}\n",
    "itos = {i: c for i, c in enumerate(chars)}\n",
    "encode = lambda s: [stoi[c] for c in s]\n",
    "decode = lambda l: [itos[i] for i in l]\n",
    "''.join(decode(encode('hello world')))"
   ]
  },
  {
   "cell_type": "code",
   "execution_count": 4,
   "metadata": {},
   "outputs": [
    {
     "data": {
      "text/plain": [
       "torch.Size([1115394])"
      ]
     },
     "execution_count": 4,
     "metadata": {},
     "output_type": "execute_result"
    }
   ],
   "source": [
    "data = torch.tensor(encode(text))\n",
    "data.shape"
   ]
  },
  {
   "cell_type": "code",
   "execution_count": 5,
   "metadata": {},
   "outputs": [
    {
     "data": {
      "text/plain": [
       "(torch.Size([1003854]), torch.Size([111540]))"
      ]
     },
     "execution_count": 5,
     "metadata": {},
     "output_type": "execute_result"
    }
   ],
   "source": [
    "idx = int(len(data) * .9)\n",
    "train_data = data[:idx]\n",
    "val_data   = data[idx:]\n",
    "\n",
    "train_data.shape, val_data.shape"
   ]
  },
  {
   "cell_type": "code",
   "execution_count": 6,
   "metadata": {},
   "outputs": [
    {
     "name": "stdout",
     "output_type": "stream",
     "text": [
      "context -> target\n",
      "tensor([18]) -> tensor(47)\n",
      "tensor([18, 47]) -> tensor(56)\n",
      "tensor([18, 47, 56]) -> tensor(57)\n",
      "tensor([18, 47, 56, 57]) -> tensor(58)\n",
      "tensor([18, 47, 56, 57, 58]) -> tensor(1)\n",
      "tensor([18, 47, 56, 57, 58,  1]) -> tensor(15)\n",
      "tensor([18, 47, 56, 57, 58,  1, 15]) -> tensor(47)\n",
      "tensor([18, 47, 56, 57, 58,  1, 15, 47]) -> tensor(58)\n"
     ]
    }
   ],
   "source": [
    "block_size = 8\n",
    "x = train_data[:block_size]\n",
    "y = train_data[1:block_size+1]\n",
    "\n",
    "print('context -> target')\n",
    "for t in range(block_size):\n",
    "    context = x[:t+1]\n",
    "    target = y[t]\n",
    "    print(context, '->', target)"
   ]
  },
  {
   "cell_type": "code",
   "execution_count": 7,
   "metadata": {},
   "outputs": [],
   "source": [
    "class SlidingCharacterDataset(Dataset):\n",
    "    def __init__(self, data: torch.tensor, block_size=8):\n",
    "        assert data.dim() == 1\n",
    "        self.data = data\n",
    "        self.block_size = block_size\n",
    "    \n",
    "    def __len__(self):\n",
    "        return len(self.data) - block_size\n",
    "    \n",
    "    def __getitem__(self, idx):\n",
    "        return (\n",
    "            self.data[idx:idx+self.block_size],\n",
    "            self.data[idx+1:idx+self.block_size+1]\n",
    "        )"
   ]
  },
  {
   "cell_type": "code",
   "execution_count": 8,
   "metadata": {},
   "outputs": [
    {
     "data": {
      "text/plain": [
       "(tensor([[21, 10,  0, 13, 63,  6,  1, 51],\n",
       "         [46, 39, 54,  1, 58, 53,  1, 63],\n",
       "         [ 1, 59, 54, 53, 52,  8,  0, 35],\n",
       "         [ 1, 61, 53, 51, 39, 52,  6,  1]]),\n",
       " tensor([[10,  0, 13, 63,  6,  1, 51, 63],\n",
       "         [39, 54,  1, 58, 53,  1, 63, 53],\n",
       "         [59, 54, 53, 52,  8,  0, 35, 46],\n",
       "         [61, 53, 51, 39, 52,  6,  1, 53]]))"
      ]
     },
     "execution_count": 8,
     "metadata": {},
     "output_type": "execute_result"
    }
   ],
   "source": [
    "train_dataset = SlidingCharacterDataset(data=train_data, block_size=8)\n",
    "train_dataloader = DataLoader(train_dataset, batch_size=4, shuffle=True, drop_last=True)\n",
    "x, y = next(iter(train_dataloader))\n",
    "x, y"
   ]
  },
  {
   "cell_type": "code",
   "execution_count": 9,
   "metadata": {},
   "outputs": [
    {
     "name": "stdout",
     "output_type": "stream",
     "text": [
      "x.shape     = torch.Size([4, 8])\n",
      "y.shape     = torch.Size([4, 8])\n",
      "y_hat.shape = torch.Size([4, 8, 65])\n"
     ]
    },
    {
     "data": {
      "text/plain": [
       "[\"\\nvA-,ogBb .R-QZX.;Vv\\ncB,dXgOFOwHebYvc'mZO3M'sdb?iw-vD?WjA,?t&T  wcrrc.BoIcpBch.OqWzFPBx&wn-\\nOOxFOSisb\",\n",
       " \"\\npjoRYPmcvY;hbm$'UW:NyjHAZVzpE'S;P wnI''sCVXxwWkZ-'DNhKMgdps$hlNEKO$Acu,pX:oIQP?'!\\nXZW& nRKNrFvxaWfku\",\n",
       " \"\\nENirQ&h:i$BgsnPdT,'ZW-;&k.B:pu\\nhCP?S-Jzpc',snLk:OhLvuvrcsjmy-wVz,s.vctM'q'c;lt,AE'nSTukyra.BeVafaQUm\",\n",
       " \"\\nXP;-'CF-RsyeT\\nboXUX$J!fO$LT3DwCAbezbU.vLEgPRkw mGvLP,'aUFvjVwF\\n;MeVOkN$'VNHoDP?t&kRgyeUX:Jcgy-$XYOSX\"]"
      ]
     },
     "execution_count": 9,
     "metadata": {},
     "output_type": "execute_result"
    }
   ],
   "source": [
    "# the first index of a bigram is used as a context and the second is used as a target\n",
    "\n",
    "class BigramLanguageModel(nn.Module):\n",
    "    def __init__(self, vocab_size = len(chars)):\n",
    "        super().__init__()\n",
    "        self.token_embedding_table = nn.Embedding(vocab_size, vocab_size)\n",
    "    \n",
    "    def forward(self, x):\n",
    "        x  = self.token_embedding_table(x)\n",
    "        return x\n",
    "\n",
    "def generate(\n",
    "        model: nn.Module,\n",
    "        start_token: torch.tensor = torch.zeros(4, 1, dtype=torch.long), # B, T\n",
    "        max_iter: int = 100\n",
    "        ):\n",
    "    sequence = start_token\n",
    "    for _ in range(max_iter):\n",
    "        logits = model(sequence[:,-1])\n",
    "        proba = F.softmax(logits, dim=1)\n",
    "        pick = torch.multinomial(proba, num_samples=1)\n",
    "        sequence = torch.cat([sequence, pick], dim=1)\n",
    "    return sequence\n",
    "\n",
    "model = BigramLanguageModel()\n",
    "y_hat = model(x)\n",
    "print(f\"{x.shape     = }\")\n",
    "print(f\"{y.shape     = }\")\n",
    "print(f\"{y_hat.shape = }\")\n",
    "\n",
    "sequence = generate(model)\n",
    "[''.join(decode(l)) for l in sequence.tolist()]"
   ]
  },
  {
   "cell_type": "code",
   "execution_count": 10,
   "metadata": {},
   "outputs": [
    {
     "data": {
      "text/plain": [
       "tensor(4.7285, grad_fn=<NllLossBackward0>)"
      ]
     },
     "execution_count": 10,
     "metadata": {},
     "output_type": "execute_result"
    }
   ],
   "source": [
    "F.cross_entropy(y_hat.view(-1, len(chars)), y.view(-1))"
   ]
  },
  {
   "cell_type": "code",
   "execution_count": 11,
   "metadata": {},
   "outputs": [],
   "source": [
    "optimizer = torch.optim.AdamW(model.parameters(), lr=1e-3)\n",
    "\n",
    "epoch = 5\n",
    "model.train()\n",
    "for e in range(epoch):\n",
    "    running_loss = 0\n",
    "    break\n",
    "    for i, (x, y) in enumerate(DataLoader(train_dataset, batch_size=64, shuffle=True, drop_last=True), start=1):\n",
    "        optimizer.zero_grad()\n",
    "\n",
    "        y_hat = model(x)\n",
    "        loss = F.cross_entropy(y_hat.view(-1, len(chars)), y.view(-1))\n",
    "        loss.backward()\n",
    "        optimizer.step()\n",
    "\n",
    "        running_loss += loss.item()\n",
    "        print(f\"[epoch {e+1:>3}/{epoch}][train loss] {running_loss/i:>10.5f}\", end='\\r')\n",
    "    print()"
   ]
  },
  {
   "cell_type": "code",
   "execution_count": 12,
   "metadata": {},
   "outputs": [
    {
     "name": "stdout",
     "output_type": "stream",
     "text": [
      "\n",
      "okB;tiNwsF\n",
      "NDmchE'b$oQ!LujiHcwx.JJZCYVNsebNH UF:LI3XvonfK:kcTU3cWGQdH&ko-sITaPl3teNl!p,RrkZPlsmYJW-lzb$PdHSUBxHw;&\n",
      "yoVJ!&pEagPz::bIt-,jmYPwkwC--AFBmchGZWv!-XJn.:bR-G$LUVq;Pj.H3GQdXYGRsGZl-pQtVOCEDTVtS\n"
     ]
    }
   ],
   "source": [
    "sequence = generate(model, start_token=torch.zeros(1,1,dtype=torch.long), max_iter=200)\n",
    "print(''.join(decode(sequence[0].tolist())))"
   ]
  },
  {
   "cell_type": "markdown",
   "metadata": {},
   "source": [
    "### Self-attention\n",
    "\n",
    "let's say there is a sequence, batch-size of 4, block(seq)-size of 8, channel-size of 2.\n",
    "Single token(word) is represented as 2 channel (or more like 768 in a Transformer model) and the maximum sequence length is 8.\n",
    "\n",
    "The information in a block only flows from the past to current time step. Not current to past (not bi-directional), not future to current (which reveals the answer. that's cheating)"
   ]
  },
  {
   "cell_type": "code",
   "execution_count": 13,
   "metadata": {},
   "outputs": [
    {
     "data": {
      "text/plain": [
       "torch.Size([4, 8, 2])"
      ]
     },
     "execution_count": 13,
     "metadata": {},
     "output_type": "execute_result"
    }
   ],
   "source": [
    "B, T, C = 4, 8, 2 # batch, time, channel\n",
    "x = torch.randn(B, T, C)\n",
    "x.shape"
   ]
  },
  {
   "cell_type": "markdown",
   "metadata": {},
   "source": [
    "Simplest way to create a context (attention) from ther very first to current token is averaging!"
   ]
  },
  {
   "cell_type": "code",
   "execution_count": 14,
   "metadata": {},
   "outputs": [
    {
     "data": {
      "image/png": "[encoded data removed]",
      "text/plain": [
       "<Figure size 432x288 with 1 Axes>"
      ]
     },
     "metadata": {
      "needs_background": "light"
     },
     "output_type": "display_data"
    }
   ],
   "source": [
    "plt.plot(x[0,:,0], label='data', color='orange')\n",
    "plt.plot(x[0,:,1], label='data', color='skyblue')\n",
    "\n",
    "avgs = []\n",
    "for i in range(1, len(x[0])+1):\n",
    "    avgs.append(x[0,:i].mean(0))\n",
    "avgs = torch.stack(avgs)\n",
    "\n",
    "plt.plot(avgs[:,0], label='attention', color='red')\n",
    "plt.plot(avgs[:,1], label='attention', color='blue')\n",
    "plt.legend()\n",
    "plt.show()"
   ]
  },
  {
   "cell_type": "markdown",
   "metadata": {},
   "source": [
    "the mathmatical trick for averaging from the very first to currnet time step, is a matrix multiplication"
   ]
  },
  {
   "cell_type": "code",
   "execution_count": 15,
   "metadata": {},
   "outputs": [
    {
     "data": {
      "text/plain": [
       "(tensor([[1., 1., 1.],\n",
       "         [1., 1., 1.],\n",
       "         [1., 1., 1.]]),\n",
       " tensor([[0., 8.],\n",
       "         [5., 1.],\n",
       "         [1., 4.]]),\n",
       " tensor([[ 6., 13.],\n",
       "         [ 6., 13.],\n",
       "         [ 6., 13.]]))"
      ]
     },
     "execution_count": 15,
     "metadata": {},
     "output_type": "execute_result"
    }
   ],
   "source": [
    "# lets say there is a sequence lengh of 3, channel size of 2\n",
    "\n",
    "trick = torch.ones(3, 3)\n",
    "x = torch.randint(0, 10, (3, 2)).float()\n",
    "\n",
    "trick, x, trick @ x"
   ]
  },
  {
   "cell_type": "code",
   "execution_count": 16,
   "metadata": {},
   "outputs": [
    {
     "data": {
      "text/plain": [
       "(tensor([[1., 0., 0.],\n",
       "         [1., 1., 0.],\n",
       "         [1., 1., 1.]]),\n",
       " tensor([[0., 8.],\n",
       "         [5., 1.],\n",
       "         [1., 4.]]),\n",
       " tensor([[ 0.,  8.],\n",
       "         [ 5.,  9.],\n",
       "         [ 6., 13.]]))"
      ]
     },
     "execution_count": 16,
     "metadata": {},
     "output_type": "execute_result"
    }
   ],
   "source": [
    "trick = torch.ones(3, 3).tril()\n",
    "\n",
    "trick, x, trick @ x"
   ]
  },
  {
   "cell_type": "code",
   "execution_count": 17,
   "metadata": {},
   "outputs": [
    {
     "data": {
      "text/plain": [
       "(tensor([[1.0000, 0.0000, 0.0000],\n",
       "         [0.5000, 0.5000, 0.0000],\n",
       "         [0.3333, 0.3333, 0.3333]]),\n",
       " tensor([[0., 8.],\n",
       "         [5., 1.],\n",
       "         [1., 4.]]),\n",
       " tensor([[0.0000, 8.0000],\n",
       "         [2.5000, 4.5000],\n",
       "         [2.0000, 4.3333]]))"
      ]
     },
     "execution_count": 17,
     "metadata": {},
     "output_type": "execute_result"
    }
   ],
   "source": [
    "trick = torch.ones(3, 3).tril()\n",
    "trick /= trick.sum(dim=1, keepdim=True)\n",
    "trick\n",
    "\n",
    "trick, x, trick @ x # average!"
   ]
  },
  {
   "cell_type": "markdown",
   "metadata": {},
   "source": [
    "let's try this on a batch!"
   ]
  },
  {
   "cell_type": "code",
   "execution_count": 18,
   "metadata": {},
   "outputs": [
    {
     "data": {
      "text/plain": [
       "torch.Size([4, 8, 2])"
      ]
     },
     "execution_count": 18,
     "metadata": {},
     "output_type": "execute_result"
    }
   ],
   "source": [
    "B, T, C = 4, 8, 2 # batch, time, channel\n",
    "x = torch.randn(B, T, C)\n",
    "x.shape"
   ]
  },
  {
   "cell_type": "code",
   "execution_count": 19,
   "metadata": {},
   "outputs": [
    {
     "data": {
      "text/plain": [
       "tensor([[1.0000, 0.0000, 0.0000, 0.0000, 0.0000, 0.0000, 0.0000, 0.0000],\n",
       "        [0.5000, 0.5000, 0.0000, 0.0000, 0.0000, 0.0000, 0.0000, 0.0000],\n",
       "        [0.3333, 0.3333, 0.3333, 0.0000, 0.0000, 0.0000, 0.0000, 0.0000],\n",
       "        [0.2500, 0.2500, 0.2500, 0.2500, 0.0000, 0.0000, 0.0000, 0.0000],\n",
       "        [0.2000, 0.2000, 0.2000, 0.2000, 0.2000, 0.0000, 0.0000, 0.0000],\n",
       "        [0.1667, 0.1667, 0.1667, 0.1667, 0.1667, 0.1667, 0.0000, 0.0000],\n",
       "        [0.1429, 0.1429, 0.1429, 0.1429, 0.1429, 0.1429, 0.1429, 0.0000],\n",
       "        [0.1250, 0.1250, 0.1250, 0.1250, 0.1250, 0.1250, 0.1250, 0.1250]])"
      ]
     },
     "execution_count": 19,
     "metadata": {},
     "output_type": "execute_result"
    }
   ],
   "source": [
    "trick = torch.ones(T, T).tril()\n",
    "trick /= trick.sum(dim=1, keepdim=True)\n",
    "attention = trick\n",
    "attention"
   ]
  },
  {
   "cell_type": "markdown",
   "metadata": {},
   "source": [
    "we end up using attention mechanism in a transformer which is softmaxed value of importance.\n",
    "\n",
    "- value at attention[0,:1] is the attention value for a sequence, length of 1 to predict the next value (position 2)\n",
    "- value at attention[1,:2] is the attention value for a sequence, length of 2 to predict the next value (position 3)\n",
    "- ...\n",
    "- value at attention[T,:T] is the attention value for a sequence, length of T to predict the next value (position T+1)\n",
    "\n",
    "the attention value is a likelihood of importance!\n",
    "and we are never looking back"
   ]
  },
  {
   "cell_type": "markdown",
   "metadata": {},
   "source": [
    "another way to create a attention value (which can be similar to transformer's attention (logit) value just before softmax)"
   ]
  },
  {
   "cell_type": "code",
   "execution_count": 20,
   "metadata": {},
   "outputs": [
    {
     "name": "stdout",
     "output_type": "stream",
     "text": [
      "tensor([[0., -inf, -inf, -inf, -inf, -inf, -inf, -inf],\n",
      "        [0., 0., -inf, -inf, -inf, -inf, -inf, -inf],\n",
      "        [0., 0., 0., -inf, -inf, -inf, -inf, -inf],\n",
      "        [0., 0., 0., 0., -inf, -inf, -inf, -inf],\n",
      "        [0., 0., 0., 0., 0., -inf, -inf, -inf],\n",
      "        [0., 0., 0., 0., 0., 0., -inf, -inf],\n",
      "        [0., 0., 0., 0., 0., 0., 0., -inf],\n",
      "        [0., 0., 0., 0., 0., 0., 0., 0.]])\n"
     ]
    },
    {
     "data": {
      "text/plain": [
       "tensor([[1.0000, 0.0000, 0.0000, 0.0000, 0.0000, 0.0000, 0.0000, 0.0000],\n",
       "        [0.5000, 0.5000, 0.0000, 0.0000, 0.0000, 0.0000, 0.0000, 0.0000],\n",
       "        [0.3333, 0.3333, 0.3333, 0.0000, 0.0000, 0.0000, 0.0000, 0.0000],\n",
       "        [0.2500, 0.2500, 0.2500, 0.2500, 0.0000, 0.0000, 0.0000, 0.0000],\n",
       "        [0.2000, 0.2000, 0.2000, 0.2000, 0.2000, 0.0000, 0.0000, 0.0000],\n",
       "        [0.1667, 0.1667, 0.1667, 0.1667, 0.1667, 0.1667, 0.0000, 0.0000],\n",
       "        [0.1429, 0.1429, 0.1429, 0.1429, 0.1429, 0.1429, 0.1429, 0.0000],\n",
       "        [0.1250, 0.1250, 0.1250, 0.1250, 0.1250, 0.1250, 0.1250, 0.1250]])"
      ]
     },
     "execution_count": 20,
     "metadata": {},
     "output_type": "execute_result"
    }
   ],
   "source": [
    "logits_just_before_attention = torch.randn(T, T).fill_(-torch.inf).triu(1)\n",
    "print(logits_just_before_attention)\n",
    "\n",
    "attention = logits_just_before_attention.softmax(1)\n",
    "attention"
   ]
  },
  {
   "cell_type": "code",
   "execution_count": 21,
   "metadata": {},
   "outputs": [
    {
     "name": "stdout",
     "output_type": "stream",
     "text": [
      "attention.shape     = torch.Size([8, 8])\n",
      "x.shape             = torch.Size([4, 8, 2])\n",
      "(attention@x).shape = torch.Size([4, 8, 2])\n"
     ]
    }
   ],
   "source": [
    "attention.shape, x.shape, (attention @ x).shape\n",
    "\n",
    "print(f\"{attention.shape     = }\")\n",
    "print(f\"{x.shape             = }\")\n",
    "print(f\"{(attention@x).shape = }\")"
   ]
  },
  {
   "cell_type": "code",
   "execution_count": null,
   "metadata": {},
   "outputs": [
    {
     "name": "stdout",
     "output_type": "stream",
     "text": [
      "x.shape     = torch.Size([4, 8])\n",
      "y.shape     = torch.Size([4, 8])\n",
      "y_hat.shape = torch.Size([4, 8, 65])\n"
     ]
    },
    {
     "data": {
      "text/plain": [
       "[\"\\nvA-,ogBb .R-QZX.;Vv\\ncB,dXgOFOwHebYvc'mZO3M'sdb?iw-vD?WjA,?t&T  wcrrc.BoIcpBch.OqWzFPBx&wn-\\nOOxFOSisb\",\n",
       " \"\\npjoRYPmcvY;hbm$'UW:NyjHAZVzpE'S;P wnI''sCVXxwWkZ-'DNhKMgdps$hlNEKO$Acu,pX:oIQP?'!\\nXZW& nRKNrFvxaWfku\",\n",
       " \"\\nENirQ&h:i$BgsnPdT,'ZW-;&k.B:pu\\nhCP?S-Jzpc',snLk:OhLvuvrcsjmy-wVz,s.vctM'q'c;lt,AE'nSTukyra.BeVafaQUm\",\n",
       " \"\\nXP;-'CF-RsyeT\\nboXUX$J!fO$LT3DwCAbezbU.vLEgPRkw mGvLP,'aUFvjVwF\\n;MeVOkN$'VNHoDP?t&kRgyeUX:Jcgy-$XYOSX\"]"
      ]
     },
     "metadata": {},
     "output_type": "display_data"
    }
   ],
   "source": [
    "class BigramLanguageModel(nn.Module):\n",
    "    def __init__(self, vocab_size = len(chars), embedding_dim: int = 32):\n",
    "        super().__init__()\n",
    "        self.token_embedding_table = nn.Embedding(vocab_size, embedding_dim)\n",
    "        self.linear = nn.Linear(embedding_dim, vocab_size)\n",
    "    \n",
    "    def forward(self, x):\n",
    "        x  = self.token_embedding_table(x)\n",
    "        return x\n",
    "\n",
    "def generate(\n",
    "        model: nn.Module,\n",
    "        start_token: torch.tensor = torch.zeros(4, 1, dtype=torch.long), # B, T\n",
    "        max_iter: int = 100\n",
    "        ):\n",
    "    sequence = start_token\n",
    "    for _ in range(max_iter):\n",
    "        logits = model(sequence[:,-1])\n",
    "        proba = F.softmax(logits, dim=1)\n",
    "        pick = torch.multinomial(proba, num_samples=1)\n",
    "        sequence = torch.cat([sequence, pick], dim=1)\n",
    "    return sequence\n",
    "\n",
    "model = BigramLanguageModel()\n",
    "y_hat = model(x)\n",
    "print(f\"{x.shape     = }\")\n",
    "print(f\"{y.shape     = }\")\n",
    "print(f\"{y_hat.shape = }\")"
   ]
  }
 ],
 "metadata": {
  "kernelspec": {
   "display_name": "base",
   "language": "python",
   "name": "python3"
  },
  "language_info": {
   "codemirror_mode": {
    "name": "ipython",
    "version": 3
   },
   "file_extension": ".py",
   "mimetype": "text/x-python",
   "name": "python",
   "nbconvert_exporter": "python",
   "pygments_lexer": "ipython3",
   "version": "3.9.12"
  },
  "orig_nbformat": 4
 },
 "nbformat": 4,
 "nbformat_minor": 2
}
