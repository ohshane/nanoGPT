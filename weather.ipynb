{
 "cells": [
  {
   "cell_type": "code",
   "execution_count": 2,
   "metadata": {},
   "outputs": [],
   "source": [
    "import torch\n",
    "import torch.nn as nn\n",
    "import matplotlib.pyplot as plt\n",
    "import pandas as pd"
   ]
  },
  {
   "cell_type": "code",
   "execution_count": 15,
   "metadata": {},
   "outputs": [
    {
     "data": {
      "text/plain": [
       "Partly Cloudy                          31733\n",
       "Mostly Cloudy                          28094\n",
       "Overcast                               16597\n",
       "Clear                                  10890\n",
       "Foggy                                   7148\n",
       "Breezy and Overcast                      528\n",
       "Breezy and Mostly Cloudy                 516\n",
       "Breezy and Partly Cloudy                 386\n",
       "Dry and Partly Cloudy                     86\n",
       "Windy and Partly Cloudy                   67\n",
       "Light Rain                                63\n",
       "Breezy                                    54\n",
       "Windy and Overcast                        45\n",
       "Humid and Mostly Cloudy                   40\n",
       "Drizzle                                   39\n",
       "Breezy and Foggy                          35\n",
       "Windy and Mostly Cloudy                   35\n",
       "Dry                                       34\n",
       "Humid and Partly Cloudy                   17\n",
       "Dry and Mostly Cloudy                     14\n",
       "Rain                                      10\n",
       "Windy                                      8\n",
       "Humid and Overcast                         7\n",
       "Windy and Foggy                            4\n",
       "Windy and Dry                              1\n",
       "Dangerously Windy and Partly Cloudy        1\n",
       "Breezy and Dry                             1\n",
       "Name: Summary, dtype: int64"
      ]
     },
     "execution_count": 15,
     "metadata": {},
     "output_type": "execute_result"
    }
   ],
   "source": [
    "df = pd.read_csv('weatherHistory.csv')\n",
    "vc = df.Summary.value_counts()\n",
    "vc"
   ]
  },
  {
   "cell_type": "code",
   "execution_count": 18,
   "metadata": {},
   "outputs": [
    {
     "name": "stdout",
     "output_type": "stream",
     "text": [
      "Partly Cloudy Partly Cloudy\n"
     ]
    }
   ],
   "source": [
    "for i in range(len(df.Summary)-1):\n",
    "    print(df.Summary[i], df.Summary[i+1])\n",
    "    break"
   ]
  },
  {
   "cell_type": "code",
   "execution_count": null,
   "metadata": {},
   "outputs": [],
   "source": []
  }
 ],
 "metadata": {
  "kernelspec": {
   "display_name": "base",
   "language": "python",
   "name": "python3"
  },
  "language_info": {
   "codemirror_mode": {
    "name": "ipython",
    "version": 3
   },
   "file_extension": ".py",
   "mimetype": "text/x-python",
   "name": "python",
   "nbconvert_exporter": "python",
   "pygments_lexer": "ipython3",
   "version": "3.9.12"
  },
  "orig_nbformat": 4
 },
 "nbformat": 4,
 "nbformat_minor": 2
}
