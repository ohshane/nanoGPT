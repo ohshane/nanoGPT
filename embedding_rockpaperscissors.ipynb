{
 "cells": [
  {
   "cell_type": "code",
   "execution_count": 26,
   "metadata": {},
   "outputs": [
    {
     "data": {
      "text/plain": [
       "tensor([0, 0, 0, 0, 1, 0, 2, 2, 0, 0, 0, 0, 2, 2, 0, 1, 0, 1, 1, 0, 0, 1, 0, 0,\n",
       "        0, 0, 2, 0, 0, 0, 0, 0, 0, 0, 1, 1, 2, 0, 0, 0, 2, 0, 0, 0, 2, 2, 0, 0,\n",
       "        1, 1, 1, 0, 0, 1, 0, 2, 0, 0, 1, 0, 0, 1, 0, 1, 0, 0, 1, 2, 1, 0, 1, 2,\n",
       "        0, 0, 1, 0, 1, 1, 0, 0, 1, 1, 1, 0, 2, 2, 0, 1, 0, 0, 2, 1, 0, 0, 2, 0,\n",
       "        1, 1, 0, 2])"
      ]
     },
     "execution_count": 26,
     "metadata": {},
     "output_type": "execute_result"
    }
   ],
   "source": [
    "import torch\n",
    "import torch.nn as nn\n",
    "import torch.optim as optim\n",
    "from torch.utils.data import Dataset, DataLoader\n",
    "import matplotlib.pyplot as plt\n",
    "\n",
    "torch.manual_seed(42)\n",
    "\n",
    "# rock: 0, paper: 1, scissors: 2\n",
    "sequence = torch.multinomial(torch.tensor([.5, .3, .2]), 100, replacement=True)\n",
    "sequence[:100]"
   ]
  },
  {
   "cell_type": "code",
   "execution_count": 27,
   "metadata": {},
   "outputs": [],
   "source": [
    "class SlidingDataset(Dataset):\n",
    "    def __init__(self,\n",
    "                 sequence: torch.tensor = sequence,\n",
    "                 block_size: int = 1):\n",
    "\n",
    "        assert block_size > 0\n",
    "        self.sequence = sequence\n",
    "        self.block_size = block_size\n",
    "    \n",
    "    def __len__(self):\n",
    "        return len(self.sequence) - self.block_size\n",
    "    \n",
    "    def __getitem__(self, idx):\n",
    "        return self.sequence[idx:idx+self.block_size], self.sequence[idx+1:idx+self.block_size+1]"
   ]
  },
  {
   "cell_type": "code",
   "execution_count": 28,
   "metadata": {},
   "outputs": [
    {
     "name": "stdout",
     "output_type": "stream",
     "text": [
      "tensor([[29., 16., 10.],\n",
      "        [17.,  8.,  2.],\n",
      "        [10.,  3.,  4.]])\n",
      "\n",
      "tensor([[0.5179, 0.5926, 0.6250],\n",
      "        [0.3036, 0.2963, 0.1250],\n",
      "        [0.1786, 0.1111, 0.2500]])\n",
      "\n",
      "tensor([[0.5566, 0.5566, 0.5566],\n",
      "        [0.2708, 0.2708, 0.2707],\n",
      "        [0.1726, 0.1726, 0.1727]])\n"
     ]
    }
   ],
   "source": [
    "l = len(sequence.unique())\n",
    "A = torch.zeros(l,l)\n",
    "for i, j in zip(sequence[:-1], sequence[1:]):\n",
    "    A[j,i] += 1\n",
    "\n",
    "print(A, end='\\n\\n')\n",
    "A /= A.sum(dim=0)\n",
    "\n",
    "print(A, end='\\n\\n')\n",
    "\n",
    "print(A@A@A@A@A)"
   ]
  },
  {
   "cell_type": "code",
   "execution_count": 29,
   "metadata": {},
   "outputs": [
    {
     "name": "stdout",
     "output_type": "stream",
     "text": [
      "tensor([[0.5179, 0.5926, 0.6250],ckward0>)\n",
      "        [0.3036, 0.2963, 0.1250],\n",
      "        [0.1786, 0.1111, 0.2500]])\n",
      "\n",
      "tensor([[0.5179, 0.5926, 0.6250],\n",
      "        [0.3036, 0.2963, 0.1250],\n",
      "        [0.1786, 0.1111, 0.2500]], grad_fn=<PermuteBackward0>)\n"
     ]
    }
   ],
   "source": [
    "embedding = nn.Embedding(3, 3)\n",
    "criterion = nn.CrossEntropyLoss()\n",
    "optimizer = optim.Adam(embedding.parameters(), lr=.1)\n",
    "\n",
    "epoch = 1000\n",
    "for e in range(epoch):\n",
    "    for x, y in DataLoader(SlidingDataset(block_size=1), batch_size=128):\n",
    "        optimizer.zero_grad()\n",
    "\n",
    "        x = x.flatten(0)\n",
    "        y = y.flatten(0)\n",
    "        y_hat = embedding(x)\n",
    "        loss = criterion(y_hat, y)\n",
    "\n",
    "        loss.backward()\n",
    "        optimizer.step()\n",
    "\n",
    "        print(loss, end='\\r')\n",
    "\n",
    "print(A, end='\\n\\n')\n",
    "print(embedding.weight.softmax(1).T)"
   ]
  },
  {
   "cell_type": "code",
   "execution_count": 52,
   "metadata": {},
   "outputs": [
    {
     "name": "stdout",
     "output_type": "stream",
     "text": [
      "tensor([[0.5179, 0.5926, 0.6250],ckward0>)\n",
      "        [0.3036, 0.2963, 0.1250],\n",
      "        [0.1786, 0.1111, 0.2500]])\n",
      "\n",
      "tensor([[0.5179, 0.5926, 0.6250],\n",
      "        [0.3036, 0.2963, 0.1250],\n",
      "        [0.1786, 0.1111, 0.2500]], grad_fn=<PermuteBackward0>)\n"
     ]
    }
   ],
   "source": [
    "embedding = nn.Embedding(3, 2)\n",
    "linear = nn.Linear(2, 3)\n",
    "criterion = nn.CrossEntropyLoss()\n",
    "optimizer = optim.Adam(embedding.parameters(), lr=.1)\n",
    "\n",
    "epoch = 1000\n",
    "for e in range(epoch):\n",
    "    for x, y in DataLoader(SlidingDataset(block_size=1), batch_size=128):\n",
    "        optimizer.zero_grad()\n",
    "\n",
    "        x = x.flatten(0)\n",
    "        y = y.flatten(0)\n",
    "        z = embedding(x)\n",
    "        y_hat = linear(z)\n",
    "        loss = criterion(y_hat, y)\n",
    "\n",
    "        loss.backward()\n",
    "        optimizer.step()\n",
    "\n",
    "        print(loss, end='\\r')\n",
    "\n",
    "print(A, end='\\n\\n')\n",
    "print(linear(embedding(torch.tensor([0,1,2]))).softmax(1).T)"
   ]
  },
  {
   "cell_type": "code",
   "execution_count": 68,
   "metadata": {},
   "outputs": [
    {
     "data": {
      "image/png": "[encoded data removed]",
      "text/plain": [
       "<Figure size 432x288 with 1 Axes>"
      ]
     },
     "metadata": {
      "needs_background": "light"
     },
     "output_type": "display_data"
    }
   ],
   "source": [
    "z = embedding(torch.tensor([0,1,2])).detach().cpu()\n",
    "plt.scatter(*z[0], label='rock')\n",
    "plt.scatter(*z[1], label='paper')\n",
    "plt.scatter(*z[2], label='scissors')\n",
    "plt.axis('equal')\n",
    "plt.axvline(0, lw=1, c='k')\n",
    "plt.axhline(0, lw=1, c='k')\n",
    "plt.legend()\n",
    "plt.show()"
   ]
  }
 ],
 "metadata": {
  "kernelspec": {
   "display_name": "base",
   "language": "python",
   "name": "python3"
  },
  "language_info": {
   "codemirror_mode": {
    "name": "ipython",
    "version": 3
   },
   "file_extension": ".py",
   "mimetype": "text/x-python",
   "name": "python",
   "nbconvert_exporter": "python",
   "pygments_lexer": "ipython3",
   "version": "3.9.12"
  },
  "orig_nbformat": 4
 },
 "nbformat": 4,
 "nbformat_minor": 2
}
